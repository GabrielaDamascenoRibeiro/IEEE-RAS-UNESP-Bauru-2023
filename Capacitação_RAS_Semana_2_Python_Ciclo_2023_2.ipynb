{
 "cells": [
  {
   "cell_type": "markdown",
   "metadata": {
    "id": "ffmxvPSSZd-T"
   },
   "source": [
    "# Bem vindos ao conteúdo de Programação em Python para o Onboarding da RAS!\n",
    "\n",
    "### Neste módulo pretendemos abordar assuntos iniciais de programação, em específico utilizando a linguagem Python, abordando os seguintes tópicos:\n",
    "\n",
    "\n",
    "*   Editores de Código\n",
    "\n",
    "Aqui vamos comentar sobre poderosasa ferramentas que você pode usar para rodar seus códigos em Python, com um adicional de explicação sobre programação em Notebook\n",
    "\n",
    "*   Pesquisa\n",
    "\n",
    "Este tópico irá abordar sugestões de lugares onde você pode tirar dúvidas e pesquisar conteúdos de códigos, esses lugares serão fortes aliados nos estudos\n",
    "\n",
    "*   Introdução a Python\n",
    "\n",
    "Neste tópico fazemos uma revisão de conteúdos básicos de programação em Python, incluindo: Tipos de data e containers, Condicionais e Loops e Funções\n",
    "\n",
    "*   Noções de orientação a objeto\n",
    "\n",
    "Neste ponto nosso foco será a a revisão de conceitos e estruturas de Orientação a Objeto com Python, um forte aliado na programação\n",
    "\n",
    "### O conteúdo neste módulo será introdutório e resumido, portanto, recomendamos que tirem um tempo para se aprofundar nos assuntos posteriormente."
   ]
  },
  {
   "cell_type": "markdown",
   "metadata": {
    "id": "sKHn-pFqM7bK"
   },
   "source": [
    "Conteúdo criado pela diretoria de Projetos da IEEE RAS Unesp Bauru, ciclo 2023.2, para qualquer dúvida entre em contato conosco."
   ]
  },
  {
   "cell_type": "markdown",
   "metadata": {
    "id": "8_pYfsRmbzUu"
   },
   "source": [
    "# Editores de Código"
   ]
  },
  {
   "cell_type": "markdown",
   "metadata": {
    "id": "ZOY6_BbRmA2s"
   },
   "source": [
    "Existem vários ambientes e plataformas onde você pode programar em Python, dependendo das suas necessidades e preferências."
   ]
  },
  {
   "cell_type": "markdown",
   "metadata": {
    "id": "76zJWZcemf1s"
   },
   "source": [
    "Vamos sugerir alguns:"
   ]
  },
  {
   "cell_type": "markdown",
   "metadata": {
    "id": "iVQwTjCxng_r"
   },
   "source": [
    "### IDLE"
   ]
  },
  {
   "cell_type": "markdown",
   "metadata": {
    "id": "0LlTaCN6nihm"
   },
   "source": [
    "O IDLE (Integrated Development and Learning Environment) é o ambiente de desenvolvimento integrado padrão que acompanha a instalação padrão do Python. Ele fornece uma interface simples e leve para escrever, testar e executar código Python."
   ]
  },
  {
   "cell_type": "markdown",
   "metadata": {
    "id": "vi3_rCexnoXg"
   },
   "source": [
    "O IDLE é incluído na instalação padrão do Python, o que significa que você não precisa baixar ou instalar nada separadamente. Ele está disponível automaticamente quando você instala o Python em seu sistema."
   ]
  },
  {
   "cell_type": "markdown",
   "metadata": {
    "id": "eDb9XYCNnsYa"
   },
   "source": [
    "O IDLE possui uma interface simples e fácil de usar, tornando-o adequado para programadores iniciantes. Ele inclui uma janela de código, um shell interativo e algumas ferramentas básicas."
   ]
  },
  {
   "cell_type": "markdown",
   "metadata": {
    "id": "SLhTvsFHnz0Q"
   },
   "source": [
    "Antes de utilizar o IDLE, você precisa ter o Python instalado em seu sistema. Você pode baixar a versão mais recente do Python no site oficial (https://www.python.org/)."
   ]
  },
  {
   "cell_type": "markdown",
   "metadata": {
    "id": "jf4WNWkXn4fx"
   },
   "source": [
    "Após a instalação, verifique se o Python está corretamente instalado em seu sistema abrindo um terminal ou prompt de comando e digitando python ou python3 (dependendo da versão). Você deve ver o prompt interativo do Python."
   ]
  },
  {
   "cell_type": "markdown",
   "metadata": {
    "id": "fFAYyveFn7n1"
   },
   "source": [
    "Para executar o IDLE, abra um terminal ou prompt de comando e digite idle ou idle3. Isso iniciará o IDLE e abrirá uma janela com o editor de texto e o shell interativo."
   ]
  },
  {
   "cell_type": "markdown",
   "metadata": {
    "id": "BzybbT3woBpb"
   },
   "source": [
    "No editor de texto, você pode escrever e salvar seus scripts Python. Para executar um script, basta pressionar F5 ou escolher a opção \"Run Module\" no menu \"Run\". No shell interativo, você pode digitar comandos Python diretamente e ver os resultados imediatamente."
   ]
  },
  {
   "cell_type": "markdown",
   "metadata": {
    "id": "Lx_JYX2VoJ-w"
   },
   "source": [
    "### Visual Studio Code (VS Code)"
   ]
  },
  {
   "cell_type": "markdown",
   "metadata": {
    "id": "Rc7GsT43oOvo"
   },
   "source": [
    "O Visual Studio Code (VSCode) é um editor de código-fonte gratuito e de código aberto desenvolvido pela Microsoft. Ele se tornou extremamente popular entre desenvolvedores de diversas linguagens, incluindo Python."
   ]
  },
  {
   "cell_type": "markdown",
   "metadata": {
    "id": "-o_dvLtIoVMu"
   },
   "source": [
    "O VSCode é conhecido por sua interface intuitiva e amigável. Ele é fácil de configurar e usar, sendo uma ótima escolha para iniciantes e desenvolvedores experientes."
   ]
  },
  {
   "cell_type": "markdown",
   "metadata": {
    "id": "u2-bIkvrolFh"
   },
   "source": [
    "Você pode baixar o Visual Studio Code gratuitamente no site oficial: (https://code.visualstudio.com)"
   ]
  },
  {
   "cell_type": "markdown",
   "metadata": {
    "id": "308Hmkntonfr"
   },
   "source": [
    "Abra o VSCode e vá até a seção de extensões (ícone de quadrado no menu lateral ou Ctrl+Shift+X). Procure por extensões relacionadas ao Python, como \"Python\" da Microsoft, e instale-as para obter recursos adicionais."
   ]
  },
  {
   "cell_type": "markdown",
   "metadata": {
    "id": "t7KEwfppo39N"
   },
   "source": [
    "Lembre-se de explorar as configurações e extensões disponíveis para personalizar o VSCode de acordo com suas preferências e necessidades específicas."
   ]
  },
  {
   "cell_type": "markdown",
   "metadata": {
    "id": "7YG0qB5BpHWG"
   },
   "source": [
    "### PyCharm"
   ]
  },
  {
   "cell_type": "markdown",
   "metadata": {
    "id": "blCznANMpI6x"
   },
   "source": [
    "O PyCharm é uma IDE (Ambiente de Desenvolvimento Integrado) desenvolvida pela JetBrains, projetada especificamente para desenvolvimento em Python. Ele oferece uma variedade de recursos e ferramentas que tornam o processo de programação mais eficiente."
   ]
  },
  {
   "cell_type": "markdown",
   "metadata": {
    "id": "UfGiHmqVpPk2"
   },
   "source": [
    "O PyCharm tem suporte integrado para uma ampla variedade de frameworks e bibliotecas Python, incluindo Django, Flask, NumPy, Pandas e muitos outros."
   ]
  },
  {
   "cell_type": "markdown",
   "metadata": {
    "id": "HlbdLsZgpYX2"
   },
   "source": [
    "Oferece uma poderosa análise estática de código, destacando possíveis erros e sugerindo melhorias para garantir a qualidade do código."
   ]
  },
  {
   "cell_type": "markdown",
   "metadata": {
    "id": "npVPzNfipiz0"
   },
   "source": [
    "Você pode baixar o PyCharm diretamente do site da JetBrains: (https://www.jetbrains.com/pycharm/download/?section=windows)"
   ]
  },
  {
   "cell_type": "markdown",
   "metadata": {
    "id": "9LdL7Lygpo3H"
   },
   "source": [
    "Durante a primeira execução, você será solicitado a configurar suas preferências, incluindo temas, atalhos e outras configurações iniciais."
   ]
  },
  {
   "cell_type": "markdown",
   "metadata": {
    "id": "fE2uMY8VqHWb"
   },
   "source": [
    "### Anaconda"
   ]
  },
  {
   "cell_type": "markdown",
   "metadata": {
    "id": "4yBFmkcSqI5a"
   },
   "source": [
    "O Anaconda é uma distribuição de código aberto que simplifica a gestão e distribuição de pacotes científicos e bibliotecas em Python e R. Desenvolvido pela empresa Anaconda, Inc., o Anaconda é especialmente popular entre cientistas de dados, pesquisadores e desenvolvedores que trabalham em projetos envolvendo análise de dados, aprendizado de máquina e ciência de dados."
   ]
  },
  {
   "cell_type": "markdown",
   "metadata": {
    "id": "yuJr4gmwqKU-"
   },
   "source": [
    "Vem com uma ampla variedade de pacotes científicos e bibliotecas populares pré-instalados, incluindo NumPy, Pandas, Matplotlib, Scikit-learn, entre outros. Isso economiza tempo na instalação e configuração dessas bibliotecas."
   ]
  },
  {
   "cell_type": "markdown",
   "metadata": {
    "id": "yN4POVr5qO6S"
   },
   "source": [
    "Vem com o Jupyter Notebook pré-instalado, um forte aliado na programação em Notebook para Python."
   ]
  },
  {
   "cell_type": "markdown",
   "metadata": {
    "id": "WkZ7DrfDqiia"
   },
   "source": [
    "Faça o download do instalador Anaconda adequado para o seu sistema operacional no site oficial: (https://www.anaconda.com/download)"
   ]
  },
  {
   "cell_type": "markdown",
   "metadata": {
    "id": "oE_ymh-xqpH3"
   },
   "source": [
    "Após a instalação, você pode abrir o Anaconda Navigator para acessar uma interface gráfica que permite gerenciar ambientes, instalar pacotes e iniciar aplicativos."
   ]
  },
  {
   "cell_type": "markdown",
   "metadata": {
    "id": "tBzBfwyFqt37"
   },
   "source": [
    "Para iniciar o Jupyter Notebook, você pode usar o Anaconda Navigator ou o comando ''jupyter notebook'' no terminal, após ativar o ambiente virtual."
   ]
  },
  {
   "cell_type": "markdown",
   "metadata": {
    "id": "27KPF_5groMm"
   },
   "source": [
    "### Spyder"
   ]
  },
  {
   "cell_type": "markdown",
   "metadata": {
    "id": "gyuqfvE8ru0i"
   },
   "source": [
    "O Spyder é uma IDE (Ambiente de Desenvolvimento Integrado) projetada especialmente para cientistas de dados e engenheiros que trabalham com Python. Ele oferece um ambiente de desenvolvimento completo, com destaque para a análise de dados e a computação científica."
   ]
  },
  {
   "cell_type": "markdown",
   "metadata": {
    "id": "d6v7XrkDr5iH"
   },
   "source": [
    "O explorador de variáveis integrado permite visualizar e explorar variáveis durante a execução do código, facilitando a depuração e o entendimento do fluxo de dados."
   ]
  },
  {
   "cell_type": "markdown",
   "metadata": {
    "id": "z8OAta_Ar7yP"
   },
   "source": [
    "Possui uma interface de usuário amigável, com uma disposição semelhante à de um ambiente de trabalho, com uma barra de ferramentas, explorador de variáveis e console interativo."
   ]
  },
  {
   "cell_type": "markdown",
   "metadata": {
    "id": "crb6XNQGsDV_"
   },
   "source": [
    "O Spyder é frequentemente incluído na distribuição Anaconda. Se você já instalou o Anaconda, pode abrir o Spyder usando o Anaconda Navigator ou executando o comando spyder no terminal."
   ]
  },
  {
   "cell_type": "markdown",
   "metadata": {
    "id": "WaRMDgxWdsyg"
   },
   "source": [
    "### O Google Colab"
   ]
  },
  {
   "cell_type": "markdown",
   "metadata": {
    "id": "EUCpGj5Bb3sc"
   },
   "source": [
    "O Google Colab, ou Colaboratory, é uma plataforma gratuita baseada na nuvem oferecida pelo Google que permite que os usuários executem código Python em notebooks interativos diretamente em seus navegadores.\n",
    "\n",
    "É uma ferramenta poderosa para desenvolvedores, cientistas de dados e pesquisadores que desejam escrever, compartilhar e executar código Python e experimentos de machine learning de forma colaborativa e sem a necessidade de configurar um ambiente de desenvolvimento local.\n",
    "\n",
    "Essa ferramenta pode ser muito útil em casos como os projetos do Processo Seletivo, ou até mesmo futuramente atuando na RAS, pois possui:\n",
    "\n",
    "\n",
    "\n",
    "*   Acesso gratuito\n",
    "*   Suporte a GPU\n",
    "*   Interagração com Google Drive\n",
    "*   Bibliotecas pré-instaladas além de permitir instalações adicionais\n",
    "*   Colaboração em tempo real\n",
    "\n",
    "Entre outras vantagens. Porém, caso o time prefira, não iremos avaliar seu ambiente de programação, cada time poderá escolher quais ferramentas preferem utilizar!"
   ]
  },
  {
   "cell_type": "markdown",
   "metadata": {
    "id": "K6-T2HboeFNO"
   },
   "source": [
    "## OBS: Programação em Notebook"
   ]
  },
  {
   "cell_type": "markdown",
   "metadata": {
    "id": "r91kh87veILC"
   },
   "source": [
    "A programação em formato de notebook, como é visto aqui no Google Colab ou no Jupyter Notebook, é uma abordagem que combina código, texto explicativo e visualizações em um único documento interativo. Eles fornecem uma maneira eficaz de documentar e compartilhar o código e os resultados de um projeto. Esse tipo de programação funciona assim:\n",
    "\n",
    "*   Estrutura de Células: Um notebook é dividido em células, que podem ser de dois tipos principais:\n",
    "\n",
    "  *   Células de Código: Essas células contêm código Python (ou outra linguagem, dependendo da plataforma) que pode ser executado diretamente no notebook.\n",
    "  *   Células de Texto: Essas células contêm texto explicativo, formatação, imagens e fórmulas matemáticas escritos em Markdown ou em outro formato de marcação de texto.\n",
    "\n",
    "          ![image.png](data:image/png;base64,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)\n",
    "*   Execução Interativa: Nas células de código, você pode escrever e executar código Python de maneira interativa. Isso significa que você pode executar uma célula de código para ver imediatamente os resultados e, em seguida, continuar a trabalhar no mesmo notebook.\n",
    "\n",
    "*   Visualizações e Resultados: As células de código podem gerar gráficos, tabelas, saída de texto e outros resultados que são exibidos diretamente no notebook. Isso facilita a visualização e a análise dos resultados.\n",
    "\n",
    "*   Documentação e Explicação: As células de texto permitem que você forneça documentação, explicações passo a passo, anotações e comentários para tornar o código mais compreensível. Você pode incluir formatação de texto, títulos, listas, links e muito mais.\n",
    "\n",
    "*   Exportação e Compartilhamento: Os notebooks podem ser exportados para vários formatos, como PDF, HTML ou arquivos de código puro. Isso torna fácil compartilhar seus resultados com outras pessoas."
   ]
  },
  {
   "cell_type": "markdown",
   "metadata": {
    "id": "A8fwYSNZTvoF"
   },
   "source": [
    "# Pesquisa"
   ]
  },
  {
   "cell_type": "markdown",
   "metadata": {
    "id": "Qi8Q1oWlT-wv"
   },
   "source": [
    "## GitHub"
   ]
  },
  {
   "cell_type": "markdown",
   "metadata": {
    "id": "r8GuqBjnWmA_"
   },
   "source": [
    "![imagem_2023-11-16_103805953.png](data:image/png;base64,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)"
   ]
  },
  {
   "cell_type": "markdown",
   "metadata": {
    "id": "6wMIuC3VVB1e"
   },
   "source": [
    "### O que é o GitHub?"
   ]
  },
  {
   "cell_type": "markdown",
   "metadata": {
    "id": "SvA3L9dAVGvI"
   },
   "source": [
    "O GitHub é uma **plataforma de hospedagem de código-fonte e colaboração para desenvolvimento de software**.\n",
    "\n",
    "Ele utiliza o sistema de controle de versão Git para rastrear as alterações no código-fonte de um projeto. Desenvolvedores usam o GitHub para colaborar em projetos, contribuir com código, reportar problemas (issues), e gerenciar o desenvolvimento de software de maneira eficiente."
   ]
  },
  {
   "cell_type": "markdown",
   "metadata": {
    "id": "6khdu0r9VV9o"
   },
   "source": [
    "### O GitHub para pesquisa"
   ]
  },
  {
   "cell_type": "markdown",
   "metadata": {
    "id": "AuK2UvqNVfF4"
   },
   "source": [
    "Muitos projetos de código aberto estão **hospedados** no GitHub, e você pode **acessar e explorar o código-fonte deles**. Isso é valioso para pesquisa e aprendizado, pois você pode **examinar** como os desenvolvedores implementam certas funcionalidades, estruturam seus projetos e lidam com problemas específicos."
   ]
  },
  {
   "cell_type": "markdown",
   "metadata": {
    "id": "ocLKBtyXVzN5"
   },
   "source": [
    "Além disso, muitos projetos mantêm **documentação em formato de Wiki** no GitHub. Você pode encontrar **informações detalhadas** sobre como usar o software, requisitos de instalação, e outras informações importantes para usuários e desenvolvedores."
   ]
  },
  {
   "cell_type": "markdown",
   "metadata": {
    "id": "wBj6gthIUBfq"
   },
   "source": [
    "## StackOverflow"
   ]
  },
  {
   "cell_type": "markdown",
   "metadata": {
    "id": "nT_7pnTtWuP9"
   },
   "source": [
    "![imagem_2023-11-16_103904390.png](data:image/png;base64,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)"
   ]
  },
  {
   "cell_type": "markdown",
   "metadata": {
    "id": "8V0QGptfW2Jk"
   },
   "source": [
    "### O que é o Stack Overflow?"
   ]
  },
  {
   "cell_type": "markdown",
   "metadata": {
    "id": "2K_OaPeCRA9M"
   },
   "source": [
    "O Stack Overflow é uma comunidade online extremamente popular para programadores e desenvolvedores de software."
   ]
  },
  {
   "cell_type": "markdown",
   "metadata": {
    "id": "NlpSSOJPRDO-"
   },
   "source": [
    "Ele funciona como um **fórum de perguntas e respostas**, onde os membros da comunidade podem fazer perguntas, responder a perguntas de outros, e votar nas melhores respostas."
   ]
  },
  {
   "cell_type": "markdown",
   "metadata": {
    "id": "ryXDXxcuRFRW"
   },
   "source": [
    "A plataforma abrange uma ampla variedade de tópicos relacionados ao desenvolvimento de software, desde questões específicas de código até tópicos mais amplos de arquitetura de software e boas práticas de programação."
   ]
  },
  {
   "cell_type": "markdown",
   "metadata": {
    "id": "oeLDIh5cW8Fg"
   },
   "source": [
    "### Stack Overflow para pesquisa"
   ]
  },
  {
   "cell_type": "markdown",
   "metadata": {
    "id": "5TG97KQNRUXx"
   },
   "source": [
    "Os membros do Stack Overflow podem postar perguntas sobre problemas específicos de programação que estão enfrentando. Outros membros da comunidade podem então fornecer respostas, geralmente com soluções práticas para os problemas apresentados."
   ]
  },
  {
   "cell_type": "markdown",
   "metadata": {
    "id": "USJPn9sWRVBm"
   },
   "source": [
    "Você pode usar a função de pesquisa para encontrar respostas para problemas específicos que está enfrentando. Muitas vezes, outros desenvolvedores já enfrentaram problemas semelhantes e compartilharam soluções no Stack Overflow."
   ]
  },
  {
   "cell_type": "markdown",
   "metadata": {
    "id": "neO2cySvRs5P"
   },
   "source": [
    "O Stack Overflow tem uma comunidade global de desenvolvedores, o que significa que você pode obter perspectivas de programadores de diferentes partes do mundo com diferentes experiências e abordagens para os problemas."
   ]
  },
  {
   "cell_type": "markdown",
   "metadata": {
    "id": "-wt1HYXQUDRR"
   },
   "source": [
    "## Chat GPT"
   ]
  },
  {
   "cell_type": "markdown",
   "metadata": {
    "id": "L_j0S-uNSEov"
   },
   "source": [
    "![imagem_2023-11-16_145757505.png](data:image/png;base64,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)"
   ]
  },
  {
   "cell_type": "markdown",
   "metadata": {
    "id": "iLwogWjTR2vE"
   },
   "source": [
    "### O que é o Chat GPT?"
   ]
  },
  {
   "cell_type": "markdown",
   "metadata": {
    "id": "wvECBmFrSM5m"
   },
   "source": [
    "O ChatGPT é um modelo de linguagem desenvolvido pela OpenAI, treinado com grandes quantidades de dados textuais e pode gerar texto coerente e contextualmente relevante em resposta a uma variedade de entradas."
   ]
  },
  {
   "cell_type": "markdown",
   "metadata": {
    "id": "18TKwJLXR7DH"
   },
   "source": [
    "### Chat GPT para pesquisa"
   ]
  },
  {
   "cell_type": "markdown",
   "metadata": {
    "id": "Ew4K-LC7SXUC"
   },
   "source": [
    "Você pode fazer perguntas relacionadas a problemas específicos de programação, conceitos de linguagens de programação, boas práticas de desenvolvimento de software ou qualquer outra dúvida relacionada a código. Obtendo uma resposta imediata."
   ]
  },
  {
   "cell_type": "markdown",
   "metadata": {
    "id": "KeWa1PXqSchz"
   },
   "source": [
    "Se precisar de exemplos de código para entender como realizar uma tarefa específica ou implementar um recurso, você pode solicitar ao ChatGPT que forneça exemplos ou esclarecimentos relacionados ao código."
   ]
  },
  {
   "cell_type": "markdown",
   "metadata": {
    "id": "3GjsplJYSkQe"
   },
   "source": [
    "Você pode usar o ChatGPT para discutir conceitos mais amplos de programação, paradigmas de desenvolvimento, estruturas de dados, algoritmos, etc."
   ]
  },
  {
   "cell_type": "markdown",
   "metadata": {
    "id": "iqSNKuwWSnnh"
   },
   "source": [
    "Se você tiver um trecho de código e quiser obter feedback ou sugestões de melhoria, pode compartilhá-lo com o ChatGPT e pedir orientações."
   ]
  },
  {
   "cell_type": "markdown",
   "metadata": {
    "id": "iQehM1MoSp_F"
   },
   "source": [
    "Pergunte sobre ferramentas, bibliotecas, frameworks ou qualquer outro recurso que você esteja considerando usar no desenvolvimento de software."
   ]
  },
  {
   "cell_type": "markdown",
   "metadata": {
    "id": "nBQERjuRSwY3"
   },
   "source": [
    "No entanto, é importante ter em mente que o ChatGPT responde com base nas informações presentes em seus dados de treinamento, e nem sempre pode fornecer informações atualizadas ou específicas sobre problemas técnicos muito recentes. Portanto, para questões críticas ou específicas, consultar fontes adicionais pode ser necessário."
   ]
  },
  {
   "cell_type": "markdown",
   "metadata": {
    "id": "VmceLZb2UKcB"
   },
   "source": [
    "## Documentação"
   ]
  },
  {
   "cell_type": "markdown",
   "metadata": {
    "id": "rRgBBQ2lTb7Y"
   },
   "source": [
    "### O que é Documentação no contexto de programação?"
   ]
  },
  {
   "cell_type": "markdown",
   "metadata": {
    "id": "euxHZXFlTiUa"
   },
   "source": [
    "A documentação no contexto da programação refere-se à **criação e manutenção de materiais escritos** que **descrevem o funcionamento, o propósito e o uso de um software ou sistema**."
   ]
  },
  {
   "cell_type": "markdown",
   "metadata": {
    "id": "BO9Fr4xzTqfx"
   },
   "source": [
    "Esses materiais são essenciais para ajudar desenvolvedores, usuários e colaboradores a entenderem como interagir com o código, como usar funcionalidades específicas e como solucionar problemas que possam surgir durante o desenvolvimento ou uso do software."
   ]
  },
  {
   "cell_type": "markdown",
   "metadata": {
    "id": "73LDZ0VeVQaz"
   },
   "source": [
    "### Tipos de documentação"
   ]
  },
  {
   "cell_type": "markdown",
   "metadata": {
    "id": "BGWGv_kuVTVj"
   },
   "source": [
    "* Comentários no Código:\n",
    "\n",
    "Comentários no código-fonte explicam trechos específicos de código para facilitar a compreensão de outros desenvolvedores que possam ler ou modificar o código. Ler esses comentários facilita a compreensão do código."
   ]
  },
  {
   "cell_type": "markdown",
   "metadata": {
    "id": "PCtkYcffVdWC"
   },
   "source": [
    "* Documentação de API ou bibliotecas:\n",
    "\n",
    "Descreve como interagir com as interfaces de programação de aplicativos (APIs), incluindo detalhes sobre os endpoints, parâmetros, respostas e exemplos de uso."
   ]
  },
  {
   "cell_type": "markdown",
   "metadata": {
    "id": "3J56hX9oVgRz"
   },
   "source": [
    "* Guia do Usuário:\n",
    "\n",
    "Fornecem informações destinadas aos usuários finais, explicando como instalar, configurar e utilizar o software."
   ]
  },
  {
   "cell_type": "markdown",
   "metadata": {
    "id": "leeok3TaVkjF"
   },
   "source": [
    "* Manuais de Desenvolvedor:\n",
    "\n",
    "Documentam os aspectos técnicos do desenvolvimento, incluindo arquitetura do sistema, design de código e padrões de codificação."
   ]
  },
  {
   "cell_type": "markdown",
   "metadata": {
    "id": "RR-xOX1IVnud"
   },
   "source": [
    "* Exemplos de Código:\n",
    "\n",
    "Incluem trechos de código que demonstram o uso de funcionalidades específicas, facilitando a compreensão e implementação por parte dos desenvolvedores."
   ]
  },
  {
   "cell_type": "markdown",
   "metadata": {
    "id": "XsHhqV5WWDh-"
   },
   "source": [
    "* FAQs (Perguntas Frequentes):\n",
    "\n",
    "Respostas para perguntas comuns que os usuários e desenvolvedores podem ter, ajudando a resolver problemas comuns de forma rápida."
   ]
  },
  {
   "cell_type": "markdown",
   "metadata": {
    "id": "BKCuuuNQWGY5"
   },
   "source": [
    "* Notas de Versão:\n",
    "\n",
    "Detalham as mudanças em cada versão do software, incluindo correções de bugs, novas funcionalidades e possíveis problemas conhecidos."
   ]
  },
  {
   "cell_type": "markdown",
   "metadata": {
    "id": "NsDDk0wDWzQT"
   },
   "source": [
    "### Quando e como usar"
   ]
  },
  {
   "cell_type": "markdown",
   "metadata": {
    "id": "AnWqOmn3W1wD"
   },
   "source": [
    "Para aprender uma nova linguagem de programação, framework ou biblioteca, a documentação é uma fonte valiosa de informações sobre sintaxe, estrutura e paradigmas."
   ]
  },
  {
   "cell_type": "markdown",
   "metadata": {
    "id": "QymHQtrPW9E0"
   },
   "source": [
    "Ao encontrar problemas ou bugs, consultar a documentação pode fornecer insights sobre possíveis soluções ou maneiras corretas de usar determinadas funcionalidades pois a documentação serve como uma referência rápida para métodos, classes, funções e outros componentes do software."
   ]
  },
  {
   "cell_type": "markdown",
   "metadata": {
    "id": "EWLGZ5J2ZLKx"
   },
   "source": [
    "### Exemplo"
   ]
  },
  {
   "cell_type": "markdown",
   "metadata": {
    "id": "SmaSUdu6ZN5R"
   },
   "source": [
    "Frequêntemente em Python podemos usar uma biblioteca chamada **Random**."
   ]
  },
  {
   "cell_type": "markdown",
   "metadata": {
    "id": "wCz3iyeUaG2P"
   },
   "source": [
    "![imagem_2023-11-16_153303656.png](data:image/png;base64,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)"
   ]
  },
  {
   "cell_type": "markdown",
   "metadata": {
    "id": "SqiHxDoXZaJI"
   },
   "source": [
    "Para entender melhor suas funcionalidades podemos ler sua documentação, disponível em: https://docs.python.org/pt-br/3/library/random.html"
   ]
  },
  {
   "cell_type": "markdown",
   "metadata": {
    "id": "1qJpZ3XxUOhb"
   },
   "source": [
    "## Artigos"
   ]
  },
  {
   "cell_type": "markdown",
   "metadata": {
    "id": "hanR723qTp5W"
   },
   "source": [
    "Um artigo científico é um documento escrito que descreve os resultados de uma pesquisa científica ou técnica. Ele é geralmente publicado em revistas acadêmicas após um processo de revisão por pares, no qual outros especialistas na área avaliam a qualidade e a validade do trabalho. Artigos científicos são uma forma importante de comunicação na comunidade acadêmica e científica, sendo utilizados para compartilhar descobertas, avanços e contribuições em diversas áreas do conhecimento."
   ]
  },
  {
   "cell_type": "markdown",
   "metadata": {
    "id": "4tedXbBjeG9q"
   },
   "source": [
    "A descrição da metodologia utilizada na pesquisa pode fornecer insights sobre abordagens eficazes para resolver problemas específicos, o que pode ser relevante para questões de codificação."
   ]
  },
  {
   "cell_type": "markdown",
   "metadata": {
    "id": "rljGVqkneLDd"
   },
   "source": [
    "A seção de resultados e discussão pode conter análises detalhadas e interpretações que podem ajudar a esclarecer conceitos complexos ou fornecer perspectivas adicionais sobre o desenvolvimento de código."
   ]
  },
  {
   "cell_type": "markdown",
   "metadata": {
    "id": "OQEPoEC4eNqT"
   },
   "source": [
    "Em alguns casos, os artigos científicos podem incluir trechos de código, algoritmos ou implementações que são relevantes para a pesquisa. Estes podem ser valiosos para entender a aplicação prática de conceitos teóricos."
   ]
  },
  {
   "cell_type": "markdown",
   "metadata": {
    "id": "YqsxUi-Dfhoy"
   },
   "source": [
    "# Introdução a Programação em Python"
   ]
  },
  {
   "cell_type": "markdown",
   "metadata": {
    "id": "cjc_muJkf88x"
   },
   "source": [
    "A linguagem de programação Python é uma das linguagens mais populares e versáteis da atualidade, sendo uma escolha ideal para uma ampla variedade de aplicações, desde desenvolvimento web e análise de dados até aprendizado de máquina e automação.\n",
    "\n",
    "É uma linguagem de programação de alto nível, interpretada e de propósito geral, se destacando por sua sintaxe simples e legível.\n",
    "\n",
    "![image.png](data:image/png;base64,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)"
   ]
  },
  {
   "cell_type": "markdown",
   "metadata": {
    "id": "WAKoEMnIhPws"
   },
   "source": [
    "Para mais informações visite: https://www.python.org"
   ]
  },
  {
   "cell_type": "markdown",
   "metadata": {
    "id": "g4oHmZI3fnxl"
   },
   "source": [
    "## Tipos de Data e Containers"
   ]
  },
  {
   "cell_type": "markdown",
   "metadata": {
    "id": "R0QIm9y5h_dN"
   },
   "source": [
    "### int: Números inteiros\n",
    "### float: Números de ponto flutuante"
   ]
  },
  {
   "cell_type": "code",
   "execution_count": null,
   "metadata": {
    "colab": {
     "base_uri": "https://localhost:8080/"
    },
    "id": "6Bk9KjZVitjT",
    "outputId": "0b814411-58b1-4601-ed6f-e903ed6e3378"
   },
   "outputs": [
    {
     "name": "stdout",
     "output_type": "stream",
     "text": [
      "3 <class 'int'>\n"
     ]
    }
   ],
   "source": [
    "x = 3\n",
    "print(x, type(x))"
   ]
  },
  {
   "cell_type": "code",
   "execution_count": null,
   "metadata": {
    "colab": {
     "base_uri": "https://localhost:8080/"
    },
    "id": "Dsn--Ye4ixQb",
    "outputId": "e2bb522e-aaec-42fa-f24e-52e0671d660d"
   },
   "outputs": [
    {
     "name": "stdout",
     "output_type": "stream",
     "text": [
      "2.5 <class 'float'>\n"
     ]
    }
   ],
   "source": [
    "y = 2.5\n",
    "print(y, type(y))"
   ]
  },
  {
   "cell_type": "markdown",
   "metadata": {
    "id": "-2zwdYXQmED1"
   },
   "source": [
    "Algumas operações:"
   ]
  },
  {
   "cell_type": "code",
   "execution_count": null,
   "metadata": {
    "colab": {
     "base_uri": "https://localhost:8080/"
    },
    "id": "m2wKt_j9mGlj",
    "outputId": "5ad465da-622a-4843-9ad7-8a22f95777d7"
   },
   "outputs": [
    {
     "name": "stdout",
     "output_type": "stream",
     "text": [
      "4\n",
      "2\n",
      "6\n",
      "9\n"
     ]
    }
   ],
   "source": [
    "print(x + 1)   # Adição\n",
    "print(x - 1)   # Subtração\n",
    "print(x * 2)   # Multiplicação\n",
    "print(x ** 2)  # Exponenciação"
   ]
  },
  {
   "cell_type": "code",
   "execution_count": null,
   "metadata": {
    "colab": {
     "base_uri": "https://localhost:8080/"
    },
    "id": "TrYhLoECmPL1",
    "outputId": "294f28cb-2dab-4888-a1cf-fcc9b863f8ff"
   },
   "outputs": [
    {
     "name": "stdout",
     "output_type": "stream",
     "text": [
      "4\n",
      "8\n"
     ]
    }
   ],
   "source": [
    "x += 1\n",
    "print(x)\n",
    "x *= 2\n",
    "print(x)"
   ]
  },
  {
   "cell_type": "code",
   "execution_count": null,
   "metadata": {
    "colab": {
     "base_uri": "https://localhost:8080/"
    },
    "id": "FM6m3rA_mQDW",
    "outputId": "3079a18a-6a05-4daf-c5c3-2cde7f67c85b"
   },
   "outputs": [
    {
     "name": "stdout",
     "output_type": "stream",
     "text": [
      "2.5 3.5 5.0 6.25\n"
     ]
    }
   ],
   "source": [
    "print(y, y + 1, y * 2, y ** 2)"
   ]
  },
  {
   "cell_type": "markdown",
   "metadata": {
    "id": "vCdp4BIHicjD"
   },
   "source": [
    "### bool: Valores booleanos (verdadeiro ou falso)"
   ]
  },
  {
   "cell_type": "code",
   "execution_count": null,
   "metadata": {
    "colab": {
     "base_uri": "https://localhost:8080/"
    },
    "id": "GYHCP3n6jBEu",
    "outputId": "a9e34c8b-230c-431b-e5f4-fcaceb95796f"
   },
   "outputs": [
    {
     "name": "stdout",
     "output_type": "stream",
     "text": [
      "<class 'bool'>\n"
     ]
    }
   ],
   "source": [
    "t = True\n",
    "f = False\n",
    "print(type(t))"
   ]
  },
  {
   "cell_type": "code",
   "execution_count": null,
   "metadata": {
    "colab": {
     "base_uri": "https://localhost:8080/"
    },
    "id": "RLz1JVow1k8Q",
    "outputId": "769ebc7f-8afb-4ce4-d788-8dc242fc9ffa"
   },
   "outputs": [
    {
     "name": "stdout",
     "output_type": "stream",
     "text": [
      "False\n",
      "True\n",
      "False\n",
      "True\n",
      "False\n"
     ]
    }
   ],
   "source": [
    "print(t and f) # AND;\n",
    "print(t or f)  # OR;\n",
    "print(not t)   # NOT;\n",
    "print(t != f)  # XOR ou Diferença;\n",
    "print(t == f)  # Igualdade"
   ]
  },
  {
   "cell_type": "markdown",
   "metadata": {
    "id": "sdfOa6RhilXH"
   },
   "source": [
    "### str: Strings, que são sequências de caracteres"
   ]
  },
  {
   "cell_type": "code",
   "execution_count": null,
   "metadata": {
    "colab": {
     "base_uri": "https://localhost:8080/"
    },
    "id": "M9wj8a_FjwBp",
    "outputId": "4dc81d44-5996-4b34-a4e2-11ed754fcaee"
   },
   "outputs": [
    {
     "name": "stdout",
     "output_type": "stream",
     "text": [
      "Meu Deus como eu amo a RAS\n"
     ]
    }
   ],
   "source": [
    "print(\"Meu Deus como eu amo a RAS\")"
   ]
  },
  {
   "cell_type": "code",
   "execution_count": null,
   "metadata": {
    "colab": {
     "base_uri": "https://localhost:8080/"
    },
    "id": "lsk3ea0sjMHP",
    "outputId": "3ec26931-797a-4578-e486-81bae6ed926b"
   },
   "outputs": [
    {
     "name": "stdout",
     "output_type": "stream",
     "text": [
      "RAS 3\n"
     ]
    }
   ],
   "source": [
    "ras = 'RAS'   # Pode usar aspas simples\n",
    "eh = \"É INCRÍVEL\"   # Ou duplas, não faz diferença aqui\n",
    "print(ras, len(ras)) # O \"len\" irá contar quantos caracteres tem a string, e retornar este valor"
   ]
  },
  {
   "cell_type": "code",
   "execution_count": null,
   "metadata": {
    "colab": {
     "base_uri": "https://localhost:8080/"
    },
    "id": "z6CC3oruj7xe",
    "outputId": "f134d5a3-c53a-472b-d77a-347a8eb955be"
   },
   "outputs": [
    {
     "name": "stdout",
     "output_type": "stream",
     "text": [
      "RAS É INCRÍVEL\n"
     ]
    }
   ],
   "source": [
    "r = ras + ' ' + eh  # Concatenação de Strings\n",
    "print(r)"
   ]
  },
  {
   "cell_type": "code",
   "execution_count": null,
   "metadata": {
    "colab": {
     "base_uri": "https://localhost:8080/"
    },
    "id": "ViFEvNStkBZx",
    "outputId": "3d384489-2e05-4869-a6ac-d37fe7e41dce"
   },
   "outputs": [
    {
     "name": "stdout",
     "output_type": "stream",
     "text": [
      "RAS É INCRÍVEL 10\n"
     ]
    }
   ],
   "source": [
    "r10 = '{} {} {}'.format(ras, eh, 10)  # Formatação de Strings\n",
    "print(r10)"
   ]
  },
  {
   "cell_type": "code",
   "execution_count": null,
   "metadata": {
    "colab": {
     "base_uri": "https://localhost:8080/"
    },
    "id": "iVKHn7Fmkxot",
    "outputId": "c7e3ffcf-66e0-424a-e526-89681ba5ae8a"
   },
   "outputs": [
    {
     "name": "stdout",
     "output_type": "stream",
     "text": [
      "Hello\n",
      "HELLO\n",
      "  hello\n",
      " hello \n",
      "he(ell)(ell)o\n",
      "world\n"
     ]
    }
   ],
   "source": [
    "# Podemos fazer várias alterações em uma String\n",
    "s = \"hello\"\n",
    "print(s.capitalize())  # Primeira letra maiuscula\n",
    "print(s.upper())       # TUDO EM MAIUSCULO\n",
    "print(s.rjust(7))      # Ajusta pra direita\n",
    "print(s.center(7))     # Ajusta pro centro\n",
    "print(s.replace('l', '(ell)'))  # Troca uma instância na string por outra\n",
    "print('  world '.strip())  # Tira os espaços"
   ]
  },
  {
   "cell_type": "markdown",
   "metadata": {
    "id": "mckd2OBBwS-s"
   },
   "source": [
    "### Listas"
   ]
  },
  {
   "cell_type": "markdown",
   "metadata": {
    "id": "tYI40DrMwYYC"
   },
   "source": [
    "*   Armazenam uma coleção ordenada de elementos.\n",
    "*   Os elementos podem ser de diferentes tipos.\n",
    "*   As listas são mutáveis, o que significa que você pode adicionar, remover e modificar elementos.\n",
    "*   São definidas usando colchetes [  ]."
   ]
  },
  {
   "cell_type": "code",
   "execution_count": null,
   "metadata": {
    "colab": {
     "base_uri": "https://localhost:8080/"
    },
    "id": "HY1L3tJPwmqC",
    "outputId": "ae0881aa-b9ab-4452-ae23-7631b6f71b95"
   },
   "outputs": [
    {
     "name": "stdout",
     "output_type": "stream",
     "text": [
      "[3, 1, 2] 2\n",
      "2\n"
     ]
    }
   ],
   "source": [
    "xs = [3, 1, 2]   # Cria uma Lista\n",
    "print(xs, xs[2])\n",
    "print(xs[-1])     # Indices negativos contam a lista de trás pra frente"
   ]
  },
  {
   "cell_type": "code",
   "execution_count": null,
   "metadata": {
    "colab": {
     "base_uri": "https://localhost:8080/"
    },
    "id": "c3I28hrUw7zr",
    "outputId": "83b4e0c9-dc9c-4069-ce4d-fc8a4a1371b3"
   },
   "outputs": [
    {
     "name": "stdout",
     "output_type": "stream",
     "text": [
      "[3, 1, 'foo']\n"
     ]
    }
   ],
   "source": [
    "xs[2] = 'foo'    # Listas podem conter elementos de diferentes tipos\n",
    "print(xs)"
   ]
  },
  {
   "cell_type": "code",
   "execution_count": null,
   "metadata": {
    "colab": {
     "base_uri": "https://localhost:8080/"
    },
    "id": "nQMNke2ow_sH",
    "outputId": "9fa3e27f-52c9-4a24-bf62-c6a4827893f7"
   },
   "outputs": [
    {
     "name": "stdout",
     "output_type": "stream",
     "text": [
      "[3, 1, 'foo', 'bar']\n"
     ]
    }
   ],
   "source": [
    "xs.append('bar') # Adiciona elemento no final da lista\n",
    "print(xs)"
   ]
  },
  {
   "cell_type": "code",
   "execution_count": null,
   "metadata": {
    "colab": {
     "base_uri": "https://localhost:8080/"
    },
    "id": "Q8byTpmjxJkS",
    "outputId": "3821cbfc-3f9d-42f7-ef9e-dfb14eb2c761"
   },
   "outputs": [
    {
     "name": "stdout",
     "output_type": "stream",
     "text": [
      "bar [3, 1, 'foo']\n"
     ]
    }
   ],
   "source": [
    "xp = xs.pop()     # Remove e retorna o último elemento da lista\n",
    "print(xp, xs)"
   ]
  },
  {
   "cell_type": "markdown",
   "metadata": {
    "id": "-ErPTTC79GFK"
   },
   "source": [
    "### Slicing"
   ]
  },
  {
   "cell_type": "markdown",
   "metadata": {
    "id": "f9F5xNy-9KSX"
   },
   "source": [
    "Pode ser usado para pegar partes específicas de uma lista"
   ]
  },
  {
   "cell_type": "code",
   "execution_count": null,
   "metadata": {
    "colab": {
     "base_uri": "https://localhost:8080/"
    },
    "id": "G9V_D92E9IEq",
    "outputId": "d38e392f-0f87-4f1b-9257-80b24cb700be"
   },
   "outputs": [
    {
     "name": "stdout",
     "output_type": "stream",
     "text": [
      "[0, 1, 2, 3, 4]\n",
      "[2, 3]\n",
      "[2, 3, 4]\n",
      "[0, 1]\n",
      "[0, 1, 2, 3, 4]\n",
      "[0, 1, 2, 3]\n",
      "[0, 1, 8, 9, 4]\n"
     ]
    }
   ],
   "source": [
    "nums = list(range(5))    # range vai criar a lista de inteiros\n",
    "print(nums)         # Printa a lista criada, lembrando que começa no 0\n",
    "print(nums[2:4])    # Pega um pedaço do indice 2 até o 4\n",
    "print(nums[2:])     # Pega um pedaço do indice 2 até o final\n",
    "print(nums[:2])     # Pega um pedaço do início até o indice 2\n",
    "print(nums[:])      # Pega um pedaço da lista inteira\n",
    "print(nums[:-1])    # Pedaços também podem ser negativos\n",
    "nums[2:4] = [8, 9] # Atribui nova sublista no pedaço\n",
    "print(nums)         # Printa a lista atual"
   ]
  },
  {
   "cell_type": "markdown",
   "metadata": {
    "id": "lO4Eyw3gxeG4"
   },
   "source": [
    "### Tuplas"
   ]
  },
  {
   "cell_type": "markdown",
   "metadata": {
    "id": "PlFPZATXxgJ1"
   },
   "source": [
    "*   Semelhantes às listas, mas são imutáveis, ou seja, não podem ser alteradas após a criação.\n",
    "*   São definidas usando parênteses (  )."
   ]
  },
  {
   "cell_type": "code",
   "execution_count": null,
   "metadata": {
    "id": "xEsvADYTxkjt"
   },
   "outputs": [],
   "source": [
    "minha_tupla = (1, 2, 3, \"quatro\")"
   ]
  },
  {
   "cell_type": "markdown",
   "metadata": {
    "id": "bPvL3zDfx5bK"
   },
   "source": [
    "### Dicionários"
   ]
  },
  {
   "cell_type": "markdown",
   "metadata": {
    "id": "-dxVFEQ2x9RU"
   },
   "source": [
    "*   Armazenam pares chave-valor, onde cada chave está associada a um valor.\n",
    "Não possuem uma ordem específica. (Similar a um Map em Java ou Object em Javascript)\n",
    "*   As chaves são únicas e imutáveis, enquanto os valores podem ser mutáveis.\n",
    "*   São definidos usando chaves {  }."
   ]
  },
  {
   "cell_type": "code",
   "execution_count": null,
   "metadata": {
    "colab": {
     "base_uri": "https://localhost:8080/"
    },
    "id": "tSk4JY3EyxNx",
    "outputId": "1ccad053-6fc5-4199-e985-084fd6166af0"
   },
   "outputs": [
    {
     "name": "stdout",
     "output_type": "stream",
     "text": [
      "miau\n",
      "True\n"
     ]
    }
   ],
   "source": [
    "di = {'gato': 'miau', 'cachorro': 'auau'}  # Cria um dicionário\n",
    "print(di['gato'])       # Pega o valor de uma chave de um dicionário\n",
    "print('gato' in di)     # Retorna se existe essa chave no dicionário"
   ]
  },
  {
   "cell_type": "code",
   "execution_count": null,
   "metadata": {
    "colab": {
     "base_uri": "https://localhost:8080/"
    },
    "id": "JYazEoqr2MFC",
    "outputId": "c12d8074-2c24-44f9-dd3a-d17739ea8f25"
   },
   "outputs": [
    {
     "name": "stdout",
     "output_type": "stream",
     "text": [
      "A person has 2 legs\n",
      "A cat has 4 legs\n",
      "A spider has 8 legs\n"
     ]
    }
   ],
   "source": [
    "d = {'person': 2, 'cat': 4, 'spider': 8}\n",
    "for animal, legs in d.items():\n",
    "    print('A {} has {} legs'.format(animal, legs))"
   ]
  },
  {
   "cell_type": "code",
   "execution_count": null,
   "metadata": {
    "colab": {
     "base_uri": "https://localhost:8080/"
    },
    "id": "vLHSns132RNY",
    "outputId": "a65c0287-4af2-4543-f84c-2735f2e9b014"
   },
   "outputs": [
    {
     "name": "stdout",
     "output_type": "stream",
     "text": [
      "{0: 0, 2: 4, 4: 16}\n"
     ]
    }
   ],
   "source": [
    "nums = [0, 1, 2, 3, 4]\n",
    "even_num_to_square = {x: x ** 2 for x in nums if x % 2 == 0}\n",
    "print(even_num_to_square)"
   ]
  },
  {
   "cell_type": "markdown",
   "metadata": {
    "id": "T7Nci6sg37hq"
   },
   "source": [
    "Combine tuplas com dicionários"
   ]
  },
  {
   "cell_type": "code",
   "execution_count": null,
   "metadata": {
    "colab": {
     "base_uri": "https://localhost:8080/"
    },
    "id": "SHUK_2Rt39om",
    "outputId": "ff54fe8b-3608-4a5a-8939-e52ad3afa866"
   },
   "outputs": [
    {
     "name": "stdout",
     "output_type": "stream",
     "text": [
      "<class 'tuple'>\n",
      "5\n",
      "1\n"
     ]
    }
   ],
   "source": [
    "d = {(x, x + 1): x for x in range(10)}  # Cria um dicionário com chaves em tuplas\n",
    "t = (5, 6)       # Cria a tupla\n",
    "print(type(t))\n",
    "print(d[t])\n",
    "print(d[(1, 2)])"
   ]
  },
  {
   "cell_type": "markdown",
   "metadata": {
    "id": "GXn-VADH2kPe"
   },
   "source": [
    "### Sets (Conjuntos)"
   ]
  },
  {
   "cell_type": "markdown",
   "metadata": {
    "id": "vJ-BDned2n_6"
   },
   "source": [
    "*   Armazenam uma coleção de elementos únicos, sem duplicatas.\n",
    "*   São úteis para realizar operações de conjunto, como união, interseção e diferença.\n",
    "*   São definidos usando chaves {  } ou a função set(  )."
   ]
  },
  {
   "cell_type": "code",
   "execution_count": null,
   "metadata": {
    "colab": {
     "base_uri": "https://localhost:8080/"
    },
    "id": "G25B7m9f2zF-",
    "outputId": "9146212b-1f93-4421-c129-a0ee620ba3d7"
   },
   "outputs": [
    {
     "name": "stdout",
     "output_type": "stream",
     "text": [
      "True\n",
      "False\n"
     ]
    }
   ],
   "source": [
    "animais = {'gato', 'cachorro'}\n",
    "print('gato' in animais)   # Retorna se existe essa chave no conjunto\n",
    "print('peixe' in animais)"
   ]
  },
  {
   "cell_type": "code",
   "execution_count": null,
   "metadata": {
    "colab": {
     "base_uri": "https://localhost:8080/"
    },
    "id": "i-6EwSw33JUG",
    "outputId": "1960fd14-f855-4ea2-802f-2bb8b4498c69"
   },
   "outputs": [
    {
     "name": "stdout",
     "output_type": "stream",
     "text": [
      "True\n",
      "3\n"
     ]
    }
   ],
   "source": [
    "animais.add('peixe')      # Adiciona um elemento ao conjunto\n",
    "print('peixe' in animais)\n",
    "print(len(animais))       # Número de elementos no conjunto"
   ]
  },
  {
   "cell_type": "code",
   "execution_count": null,
   "metadata": {
    "colab": {
     "base_uri": "https://localhost:8080/"
    },
    "id": "C3Jb2B2J3Vp6",
    "outputId": "d95bf0c3-1c6e-4fa1-9c08-87d80b01e805"
   },
   "outputs": [
    {
     "name": "stdout",
     "output_type": "stream",
     "text": [
      "3\n",
      "2\n"
     ]
    }
   ],
   "source": [
    "animais.add('gato')       # Adicionar um elemento já existente não altera o conjunto\n",
    "print(len(animais))\n",
    "animais.remove('gato')    # Remove um elemento do conjunto\n",
    "print(len(animais))"
   ]
  },
  {
   "cell_type": "markdown",
   "metadata": {
    "id": "S78Y0OdVfrMT"
   },
   "source": [
    "## Condicionais e Loops"
   ]
  },
  {
   "cell_type": "markdown",
   "metadata": {
    "id": "Ap7BHrzNoGE1"
   },
   "source": [
    "Em Python, as estruturas condicionais são usadas para controlar o fluxo de um programa com base em condições lógicas. As estruturas condicionais permitem que você execute blocos de código apenas se uma condição específica for verdadeira (ou falsa).\n",
    "\n",
    "Algumas condições podem ser usadas como:"
   ]
  },
  {
   "cell_type": "markdown",
   "metadata": {
    "id": "vSEdBG8ArTGM"
   },
   "source": [
    "If:  executa um bloco de código se uma condição for verdadeira"
   ]
  },
  {
   "cell_type": "code",
   "execution_count": null,
   "metadata": {
    "colab": {
     "base_uri": "https://localhost:8080/"
    },
    "id": "oSC25Hjlqrl5",
    "outputId": "1eea99da-0e8b-4ff4-87ac-9b095ae17882"
   },
   "outputs": [
    {
     "name": "stdout",
     "output_type": "stream",
     "text": [
      "Você é maior de idade.\n"
     ]
    }
   ],
   "source": [
    "idade = 18\n",
    "if idade >= 18:\n",
    "    print(\"Você é maior de idade.\")"
   ]
  },
  {
   "cell_type": "markdown",
   "metadata": {
    "id": "XYEZ9dMCrZch"
   },
   "source": [
    "else: usado para executar um bloco de código quando a condição não é verdadeira, combinando com o \"if\""
   ]
  },
  {
   "cell_type": "code",
   "execution_count": null,
   "metadata": {
    "colab": {
     "base_uri": "https://localhost:8080/"
    },
    "id": "Q6vh5Mq6q6Wl",
    "outputId": "a45653e9-70a4-449a-c277-3002ed02c940"
   },
   "outputs": [
    {
     "name": "stdout",
     "output_type": "stream",
     "text": [
      "Você é menor de idade.\n"
     ]
    }
   ],
   "source": [
    "idade = 15\n",
    "if idade >= 18:\n",
    "    print(\"Você é maior de idade.\")\n",
    "else:\n",
    "    print(\"Você é menor de idade.\")"
   ]
  },
  {
   "cell_type": "markdown",
   "metadata": {
    "id": "VMYNPyNproiX"
   },
   "source": [
    "elif: para lidar com múltiplas condições. A primeira condição verdadeira encontrada será executada, iniciando pelo \"if\", e o bloco \"else\" será executado se nenhuma das condições for verdadeira"
   ]
  },
  {
   "cell_type": "code",
   "execution_count": null,
   "metadata": {
    "colab": {
     "base_uri": "https://localhost:8080/"
    },
    "id": "-IwnAB5rq-Xd",
    "outputId": "2d8ba7c4-7568-450e-b05f-10453b0f407c"
   },
   "outputs": [
    {
     "name": "stdout",
     "output_type": "stream",
     "text": [
      "Aprovado.\n"
     ]
    }
   ],
   "source": [
    "pontuação = 75\n",
    "if pontuação >= 90:\n",
    "    print(\"Aprovado com distinção.\")\n",
    "elif pontuação >= 60:\n",
    "    print(\"Aprovado.\")\n",
    "else:\n",
    "    print(\"Reprovado.\")"
   ]
  },
  {
   "cell_type": "markdown",
   "metadata": {
    "id": "jS1vcjJzr-7g"
   },
   "source": [
    "Operadores lógicos: Além das estruturas condicionais, você pode usar operadores lógicos, como **and**, **or** e **not**, para criar condições mais complexas"
   ]
  },
  {
   "cell_type": "code",
   "execution_count": null,
   "metadata": {
    "id": "RN83jsV7rIdd"
   },
   "outputs": [],
   "source": [
    "possui_carta_de_motorista = True\n",
    "if idade >= 18 and possui_carta_de_motorista:\n",
    "    print(\"Você pode dirigir.\")"
   ]
  },
  {
   "cell_type": "markdown",
   "metadata": {
    "id": "RPqCGiRjs6zo"
   },
   "source": [
    "Você também pode utilizar estruturas de Loop para executar um bloco de código repetidamente, com base em uma condição ou em uma sequência de elementos.\n",
    "\n",
    "Possíveis modos de utilizar essas estruturas são:"
   ]
  },
  {
   "cell_type": "markdown",
   "metadata": {
    "id": "JzYDfrHvuZr0"
   },
   "source": [
    "for: usado para iterar sobre uma sequência de elementos, como uma lista, tupla, string ou objeto iterável"
   ]
  },
  {
   "cell_type": "code",
   "execution_count": null,
   "metadata": {
    "colab": {
     "base_uri": "https://localhost:8080/"
    },
    "id": "q4qb4wbbuQa4",
    "outputId": "ea8f8c17-b59b-4855-d319-463f7bd53864"
   },
   "outputs": [
    {
     "name": "stdout",
     "output_type": "stream",
     "text": [
      "maçã\n",
      "banana\n",
      "laranja\n"
     ]
    }
   ],
   "source": [
    "frutas = [\"maçã\", \"banana\", \"laranja\"]\n",
    "for fruta in frutas:\n",
    "    print(fruta)"
   ]
  },
  {
   "cell_type": "markdown",
   "metadata": {
    "id": "0jjsT3CMuhas"
   },
   "source": [
    "while: usado para executar um bloco de código enquanto uma condição for verdadeira"
   ]
  },
  {
   "cell_type": "code",
   "execution_count": null,
   "metadata": {
    "colab": {
     "base_uri": "https://localhost:8080/"
    },
    "id": "hmLq59EYulEC",
    "outputId": "631ad977-8c5e-487a-97d3-381e9984b9ca"
   },
   "outputs": [
    {
     "name": "stdout",
     "output_type": "stream",
     "text": [
      "0\n",
      "1\n",
      "2\n",
      "3\n",
      "4\n"
     ]
    }
   ],
   "source": [
    "contador = 0\n",
    "while contador < 5:\n",
    "    print(contador)\n",
    "    contador += 1"
   ]
  },
  {
   "cell_type": "markdown",
   "metadata": {
    "id": "E7xCZxmWvZ7V"
   },
   "source": [
    "A função range() é frequentemente usada com loops for para gerar uma sequência de números. A sintaxe básica é range(início, fim, passo), onde:\n",
    "*   início é o valor inicial (inclusive),\n",
    "*   fim é o valor final (exclusivo) e\n",
    "*   passo é o incremento entre os números na sequência."
   ]
  },
  {
   "cell_type": "code",
   "execution_count": null,
   "metadata": {
    "colab": {
     "base_uri": "https://localhost:8080/"
    },
    "id": "douwk23SviRW",
    "outputId": "44773d0c-722a-4489-eebc-8c5c0a3091f1"
   },
   "outputs": [
    {
     "name": "stdout",
     "output_type": "stream",
     "text": [
      "1\n",
      "3\n",
      "5\n",
      "7\n",
      "9\n"
     ]
    }
   ],
   "source": [
    "for i in range(1, 10, 2):\n",
    "    print(i)"
   ]
  },
  {
   "cell_type": "markdown",
   "metadata": {
    "id": "rAdxoZm6usE0"
   },
   "source": [
    "Dentro dos loops, você pode usar instruções de controle de loop para modificar o comportamento do loop. As principais instruções de controle são:\n",
    "\n",
    "*   break: Termina imediatamente o loop, independentemente da condição.\n",
    "*   continue: Pula a iteração atual e continua com a próxima iteração do loop.\n",
    "*   pass: É usado como um espaço reservado para código futuro e não faz nada durante a execução do loop."
   ]
  },
  {
   "cell_type": "code",
   "execution_count": null,
   "metadata": {
    "colab": {
     "base_uri": "https://localhost:8080/"
    },
    "id": "3No2dGAxu5gO",
    "outputId": "127545a5-030b-4851-fa2f-cc65e8d27831"
   },
   "outputs": [
    {
     "name": "stdout",
     "output_type": "stream",
     "text": [
      "0\n",
      "1\n",
      "2\n",
      "4\n"
     ]
    }
   ],
   "source": [
    "for i in range(10):\n",
    "    if i == 3:\n",
    "        continue  # Pula o loop quando i é igual a 3\n",
    "    if i == 5:\n",
    "        break  # Termina a iteração quando i é igual a 5\n",
    "    print(i)"
   ]
  },
  {
   "cell_type": "markdown",
   "metadata": {
    "id": "8P5UnmTYf1D_"
   },
   "source": [
    "## Funções"
   ]
  },
  {
   "cell_type": "markdown",
   "metadata": {
    "id": "DtQKD0DZ-Sq9"
   },
   "source": [
    "Funções em Python são blocos de código reutilizáveis que realizam tarefas específicas. Elas permitem que você encapsule uma sequência de instruções em um único bloco nomeado e, assim, tornem seu código mais organizado, modular e fácil de entender"
   ]
  },
  {
   "cell_type": "markdown",
   "metadata": {
    "id": "9TIJW3LY-og2"
   },
   "source": [
    "Os parâmetros são variáveis usadas dentro da função para receber argumentos passados quando a função é chamada.\n",
    "\n",
    "Os argumentos são os valores reais que você fornece ao chamar a função."
   ]
  },
  {
   "cell_type": "markdown",
   "metadata": {
    "id": "Th8gxakS-YFZ"
   },
   "source": [
    "Para definir uma função em Python, você usa a palavra-chave def, seguida pelo nome da função e, entre parênteses, os parâmetros que a função aceita"
   ]
  },
  {
   "cell_type": "code",
   "execution_count": null,
   "metadata": {
    "id": "FDTl8bZj-YpE"
   },
   "outputs": [],
   "source": [
    "def saudacao(nome):\n",
    "    print(f\"Olá, {nome}!\")"
   ]
  },
  {
   "cell_type": "markdown",
   "metadata": {
    "id": "mkqRDQZc-gc5"
   },
   "source": [
    "Para usar uma função, você a chama pelo nome, seguido por parênteses contendo os argumentos (valores) que serão passados para a função"
   ]
  },
  {
   "cell_type": "code",
   "execution_count": null,
   "metadata": {
    "colab": {
     "base_uri": "https://localhost:8080/"
    },
    "id": "Obp0jLhO-hDe",
    "outputId": "a75fcf25-bb9a-4e6e-8b15-8ea02236de0b"
   },
   "outputs": [
    {
     "name": "stdout",
     "output_type": "stream",
     "text": [
      "Olá, Gabi!\n"
     ]
    }
   ],
   "source": [
    "saudacao(\"Gabi\")"
   ]
  },
  {
   "cell_type": "markdown",
   "metadata": {
    "id": "aPYAiBfh-9l8"
   },
   "source": [
    "Uma função pode retornar um valor usando a palavra-chave \"return\". O valor retornado é usado onde a função foi chamada.\n",
    "\n",
    "Se uma função não contiver uma instrução \"return\", ela retornará automaticamente \"None\"."
   ]
  },
  {
   "cell_type": "code",
   "execution_count": null,
   "metadata": {
    "colab": {
     "base_uri": "https://localhost:8080/"
    },
    "id": "yLw5zFXu--HJ",
    "outputId": "a1fb2d2c-b3bd-4d60-9e8e-e060f6bde048"
   },
   "outputs": [
    {
     "name": "stdout",
     "output_type": "stream",
     "text": [
      "Resultado1 = 28\n",
      "Resultado2 = None\n"
     ]
    }
   ],
   "source": [
    "def multiplicar(x, y):\n",
    "    return x * y\n",
    "\n",
    "resultado1 = multiplicar(4, 7)\n",
    "print(\"Resultado1 =\", resultado1)\n",
    "\n",
    "def somar(x, y):\n",
    "    return\n",
    "\n",
    "resultado2 = somar(4, 7)\n",
    "print(\"Resultado2 =\", resultado2)"
   ]
  },
  {
   "cell_type": "markdown",
   "metadata": {
    "id": "7qg8iZnP_KGR"
   },
   "source": [
    "As variáveis definidas dentro de uma função têm um escopo local, o que significa que elas só são acessíveis dentro da função.\n",
    "\n",
    "Variáveis definidas fora de uma função têm um escopo global, e podem ser acessadas de qualquer lugar no programa."
   ]
  },
  {
   "cell_type": "code",
   "execution_count": null,
   "metadata": {
    "id": "0NUIdgYl_Kpv"
   },
   "outputs": [],
   "source": [
    "a = 10  # Variável global\n",
    "\n",
    "def funcao():\n",
    "    b = 5  # Variável local\n",
    "    print(a)  # Pode acessar 'a' (global)\n",
    "    print(b)  # Pode acessar 'b' (local)"
   ]
  },
  {
   "cell_type": "markdown",
   "metadata": {
    "id": "ziVqi5GJAl2J"
   },
   "source": [
    "Você pode definir funções que aceitam um número arbitrário de argumentos usando o operador * antes do nome de um parâmetro."
   ]
  },
  {
   "cell_type": "code",
   "execution_count": null,
   "metadata": {
    "colab": {
     "base_uri": "https://localhost:8080/"
    },
    "id": "546GjUZsARTz",
    "outputId": "6a82be73-6b21-41e3-8e78-9b7a22f1988e"
   },
   "outputs": [
    {
     "name": "stdout",
     "output_type": "stream",
     "text": [
      "7\n"
     ]
    }
   ],
   "source": [
    "def soma_variavel(*args):\n",
    "    total = 0\n",
    "    for numero in args:\n",
    "        total += numero\n",
    "    return total\n",
    "\n",
    "print(soma_variavel(2,5))"
   ]
  },
  {
   "cell_type": "markdown",
   "metadata": {
    "id": "AOmUK_Q5AzUB"
   },
   "source": [
    "Lembre de documentar e comentar suas funções!\n",
    "\n",
    "Utilize \"\"\" ou # para escrever linhas que não serão computadas"
   ]
  },
  {
   "cell_type": "code",
   "execution_count": null,
   "metadata": {
    "colab": {
     "base_uri": "https://localhost:8080/"
    },
    "id": "w2bNvu7tA3QR",
    "outputId": "41f72cf9-58f5-4204-ac33-bb3fcdb62de4"
   },
   "outputs": [
    {
     "name": "stdout",
     "output_type": "stream",
     "text": [
      "Resultado1 = 28\n"
     ]
    }
   ],
   "source": [
    "def multiplicar(x, y):\n",
    "    \"\"\"\n",
    "      Essa função pretende multiplicar dois valores\n",
    "\n",
    "    Args:\n",
    "      Valores a serem multiplicados\n",
    "\n",
    "    Return:\n",
    "      Resultado da multiplicação\n",
    "    \"\"\"\n",
    "    return x * y\n",
    "\n",
    "resultado1 = multiplicar(4, 7) # Aqui a função é chamada, e seu valor é atribuido a resultado1\n",
    "print(\"Resultado1 =\", resultado1) # Print do valor armazenado em resultado1"
   ]
  },
  {
   "cell_type": "markdown",
   "metadata": {
    "id": "LIiaB-pcfxHT"
   },
   "source": [
    "# Noções de Orientação a Objeto"
   ]
  },
  {
   "cell_type": "markdown",
   "metadata": {
    "id": "5ZuGJsrMBuo5"
   },
   "source": [
    "A Orientação a Objetos (OOP - Object-Oriented Programming) é um paradigma de programação que se baseia no conceito de \"objetos\", que são instâncias de classes, e permite organizar o código de forma mais modular, reutilizável e estruturada.\n",
    "\n",
    "Abaixo alguns conceitos serâo explicados no contexto do Python:"
   ]
  },
  {
   "cell_type": "markdown",
   "metadata": {
    "id": "aEPbeQ50CAj1"
   },
   "source": [
    "### Classes"
   ]
  },
  {
   "cell_type": "markdown",
   "metadata": {
    "id": "NWH-b_nnCID9"
   },
   "source": [
    "As classes são **modelos** ou plantas baixas para **criar objetos**.\n",
    "\n",
    "Elas definem os **atributos (variáveis)** e **métodos (funções)** que os objetos da classe terão.\n",
    "\n",
    "As classes são definidas usando a palavra-chave \"class\" seguida do nome da classe, geralmente em *CamelCase* (ou seja, com a primeira letra de cada palavra em maiúscula)."
   ]
  },
  {
   "cell_type": "code",
   "execution_count": null,
   "metadata": {
    "id": "J3tRPBfgCZqf"
   },
   "outputs": [],
   "source": [
    "class Carro:\n",
    "    def __init__(self, marca, modelo):\n",
    "        self.marca = marca\n",
    "        self.modelo = modelo"
   ]
  },
  {
   "cell_type": "markdown",
   "metadata": {
    "id": "QDaRxMVECe6D"
   },
   "source": [
    "### Objetos"
   ]
  },
  {
   "cell_type": "markdown",
   "metadata": {
    "id": "J5g7zeBLCgtX"
   },
   "source": [
    "Os objetos são **instâncias de classes**. Eles são criados **a partir** de uma classe e contêm **seus próprios atributos e métodos**.\n",
    "\n",
    "Para criar um objeto, você chama o construtor da classe usando a sintaxe NomeDaClasse(argumentos)."
   ]
  },
  {
   "cell_type": "code",
   "execution_count": null,
   "metadata": {
    "id": "OHDkd8B7Cqmj"
   },
   "outputs": [],
   "source": [
    "meu_carro = Carro(\"Ford\", \"Fiesta\")"
   ]
  },
  {
   "cell_type": "markdown",
   "metadata": {
    "id": "C1Y76z3ACyu9"
   },
   "source": [
    "### Atributos"
   ]
  },
  {
   "cell_type": "markdown",
   "metadata": {
    "id": "DZnhErcBC0t4"
   },
   "source": [
    "Atributos são **variáveis associadas a um objeto**. Eles representam as **características ou propriedades do objeto**.\n",
    "\n",
    "Atributos podem ser acessados usando a notação de ponto (objeto.atributo)."
   ]
  },
  {
   "cell_type": "code",
   "execution_count": null,
   "metadata": {
    "colab": {
     "base_uri": "https://localhost:8080/"
    },
    "id": "qizatm35C5zb",
    "outputId": "12ecfba5-be82-4811-8cf7-2c878ab17e47"
   },
   "outputs": [
    {
     "name": "stdout",
     "output_type": "stream",
     "text": [
      "Ford\n"
     ]
    }
   ],
   "source": [
    "print(meu_carro.marca)"
   ]
  },
  {
   "cell_type": "markdown",
   "metadata": {
    "id": "FmVQrYizC81s"
   },
   "source": [
    "### Métodos"
   ]
  },
  {
   "cell_type": "markdown",
   "metadata": {
    "id": "2tszNKftC_jA"
   },
   "source": [
    "Métodos são **funções definidas em uma classe que realizam operações específicas em objetos daquela classe**.\n",
    "\n",
    "Eles podem ser chamados em objetos usando a notação de ponto (objeto.método())."
   ]
  },
  {
   "cell_type": "code",
   "execution_count": null,
   "metadata": {
    "colab": {
     "base_uri": "https://localhost:8080/"
    },
    "id": "vXrgWicGD8aR",
    "outputId": "38a2aaaa-b25d-4cf3-abe7-6cefbaa6cc13"
   },
   "outputs": [
    {
     "name": "stdout",
     "output_type": "stream",
     "text": [
      "Fiesta está acelerando!\n"
     ]
    }
   ],
   "source": [
    "class Carro:\n",
    "    def __init__(self, marca, modelo):\n",
    "        self.marca = marca\n",
    "        self.modelo = modelo\n",
    "\n",
    "    def acelerar(self):\n",
    "        print(f\"{self.modelo} está acelerando!\")\n",
    "\n",
    "meu_carro = Carro(\"Ford\", \"Fiesta\")\n",
    "meu_carro.acelerar()"
   ]
  },
  {
   "cell_type": "markdown",
   "metadata": {
    "id": "AKkHTv6qEDKv"
   },
   "source": [
    "### Encapsulamento"
   ]
  },
  {
   "cell_type": "markdown",
   "metadata": {
    "id": "k538Cn6FEG3I"
   },
   "source": [
    "Python oferece encapsulamento de dados, embora não seja tão rígido quanto em algumas outras linguagens. Os atributos podem ser públicos, protegidos ou privados, com base na convenção de nomenclatura:\n",
    "*   Atributos públicos: Acessíveis diretamente (objeto.atributo).\n",
    "*   Atributos protegidos (convenção): Prefixados com um sublinhado único (_atributo).\n",
    "*   Atributos privados (convenção): Prefixados com dois sublinhados (__atributo)."
   ]
  },
  {
   "cell_type": "markdown",
   "metadata": {
    "id": "Y1RXRztJET8-"
   },
   "source": [
    "### Herança"
   ]
  },
  {
   "cell_type": "markdown",
   "metadata": {
    "id": "XouRaCB4EVVg"
   },
   "source": [
    "A herança permite **criar uma nova classe baseada em uma classe existente**. A nova classe **herda os atributos e métodos** da classe base e **pode adicionar** ou substituir funcionalidades.\n",
    "\n",
    "Isso promove a reutilização de código e facilita a criação de hierarquias de classes."
   ]
  },
  {
   "cell_type": "code",
   "execution_count": null,
   "metadata": {
    "id": "y-rlC5MNEZxK"
   },
   "outputs": [],
   "source": [
    "class CarroEsportivo(Carro):\n",
    "    def __init__(self, marca, modelo, potencia):\n",
    "        super().__init__(marca, modelo)\n",
    "        self.potencia = potencia"
   ]
  },
  {
   "cell_type": "markdown",
   "metadata": {
    "id": "MbYLQE1fEhCH"
   },
   "source": [
    "### Polimorfismo"
   ]
  },
  {
   "cell_type": "markdown",
   "metadata": {
    "id": "dDP1TEUvEj2i"
   },
   "source": [
    "O polimorfismo permite que objetos de diferentes classes sejam **tratados de maneira uniforme**, desde que compartilhem um **conjunto comum de métodos ou atributos**."
   ]
  },
  {
   "cell_type": "code",
   "execution_count": null,
   "metadata": {
    "colab": {
     "base_uri": "https://localhost:8080/"
    },
    "id": "dxutAyHvEl87",
    "outputId": "15a8c4a5-337c-4326-962c-d0157da79918"
   },
   "outputs": [
    {
     "name": "stdout",
     "output_type": "stream",
     "text": [
      "Fiesta está acelerando!\n",
      "F40 está acelerando!\n"
     ]
    }
   ],
   "source": [
    "def dirigir(carro):\n",
    "    carro.acelerar()\n",
    "\n",
    "meu_carro = Carro(\"Ford\", \"Fiesta\")\n",
    "meu_carro_esportivo = CarroEsportivo(\"Ferrari\", \"F40\", 700)\n",
    "\n",
    "dirigir(meu_carro)\n",
    "dirigir(meu_carro_esportivo)"
   ]
  }
 ],
 "metadata": {
  "colab": {
   "provenance": []
  },
  "kernelspec": {
   "display_name": "Python 3 (ipykernel)",
   "language": "python",
   "name": "python3"
  },
  "language_info": {
   "codemirror_mode": {
    "name": "ipython",
    "version": 3
   },
   "file_extension": ".py",
   "mimetype": "text/x-python",
   "name": "python",
   "nbconvert_exporter": "python",
   "pygments_lexer": "ipython3",
   "version": "3.11.5"
  }
 },
 "nbformat": 4,
 "nbformat_minor": 1
}
